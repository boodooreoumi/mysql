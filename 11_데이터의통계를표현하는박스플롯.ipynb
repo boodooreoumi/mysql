{
 "cells": [
  {
   "cell_type": "code",
   "execution_count": 7,
   "id": "8df2fd1d",
   "metadata": {},
   "outputs": [],
   "source": [
    "import matplotlib.pyplot as plt\n",
    "import pandas as pd"
   ]
  },
  {
   "cell_type": "code",
   "execution_count": 2,
   "id": "c5632104",
   "metadata": {},
   "outputs": [],
   "source": [
    "# 그래프에 한글설정\n",
    "plt.rcParams['font.family']='Malgun Gothic'\n",
    "\n",
    "# 유니코드에서 그래프에 마이너스 기호 깨지는 문제 해결\n",
    "plt.rcParams['axes.unicode_minus']=False"
   ]
  },
  {
   "cell_type": "code",
   "execution_count": 3,
   "id": "68eca966",
   "metadata": {},
   "outputs": [],
   "source": [
    "# 샘플데이터\n",
    "scores = pd.Series([0,10,15,15,15,16,19,20,21,25,25,26,26,29,30,35,36,37,39,40,41,41,44,45,45,45,45,47,\n",
    "          50,50,50,50,51,51,51,53,54,55,55,56,60,61,62,62,63,64,65,65,65,65,66,66,66,66,66,\n",
    "          67,68,68,69,70,70,70,70,70,70,70,70,71,71,71,71,71,72,72,72,72,73,74,74,74,75,75,\n",
    "          76,76,76,77,77,77,77,78,78,78,78,78,79,79,79,79,80,80,80,80,80,80,81,81,81,82,82,\n",
    "          85,85,85,88,88,89,90,90,90,93,93,95,95,95,97,100])"
   ]
  },
  {
   "cell_type": "code",
   "execution_count": 4,
   "id": "c46a67cf",
   "metadata": {},
   "outputs": [
    {
     "data": {
      "text/plain": [
       "count    125.000000\n",
       "mean      63.416000\n",
       "std       21.763829\n",
       "min        0.000000\n",
       "25%       50.000000\n",
       "50%       70.000000\n",
       "75%       78.000000\n",
       "max      100.000000\n",
       "dtype: float64"
      ]
     },
     "execution_count": 4,
     "metadata": {},
     "output_type": "execute_result"
    }
   ],
   "source": [
    "# 샘플데이터의 통계값\n",
    "scores.describe()"
   ]
  },
  {
   "cell_type": "code",
   "execution_count": 5,
   "id": "26946138",
   "metadata": {},
   "outputs": [
    {
     "name": "stdout",
     "output_type": "stream",
     "text": [
      "1/4지점의 값: 50.0\n",
      "1/4지점의 값: 78.0\n",
      "이상치:  120.0 이상\n",
      "이상치:  8.0 미만\n"
     ]
    }
   ],
   "source": [
    "# 이상치 구하기\n",
    "Q1=scores.quantile(0.25)\n",
    "print(\"1/4지점의 값:\",Q1)\n",
    "\n",
    "Q3=scores.quantile(0.75)\n",
    "print(\"1/4지점의 값:\",Q3)\n",
    "\n",
    "# 이상치\n",
    "print(\"이상치: \", Q3+1.5*(Q3-Q1), '이상')\n",
    "print(\"이상치: \", Q1-1.5*(Q3-Q1), '미만')"
   ]
  },
  {
   "cell_type": "code",
   "execution_count": 8,
   "id": "fefa29ea",
   "metadata": {},
   "outputs": [
    {
     "data": {
      "text/plain": [
       "{'whiskers': [<matplotlib.lines.Line2D at 0x21e0caf3a88>,\n",
       "  <matplotlib.lines.Line2D at 0x21e0cafd188>],\n",
       " 'caps': [<matplotlib.lines.Line2D at 0x21e0cafd8c8>,\n",
       "  <matplotlib.lines.Line2D at 0x21e0cafde88>],\n",
       " 'boxes': [<matplotlib.lines.Line2D at 0x21e0caf3248>],\n",
       " 'medians': [<matplotlib.lines.Line2D at 0x21e0cb064c8>],\n",
       " 'fliers': [<matplotlib.lines.Line2D at 0x21e0cafd4c8>],\n",
       " 'means': [<matplotlib.lines.Line2D at 0x21e0cafdf48>]}"
      ]
     },
     "execution_count": 8,
     "metadata": {},
     "output_type": "execute_result"
    },
    {
     "data": {
      "image/png": "[encoded data removed]",
      "text/plain": [
       "<Figure size 640x480 with 1 Axes>"
      ]
     },
     "metadata": {},
     "output_type": "display_data"
    }
   ],
   "source": [
    "#박스플록 평균표시\n",
    "plt.boxplot(scores,showmeans=True,meanline=True)"
   ]
  },
  {
   "cell_type": "code",
   "execution_count": 9,
   "id": "bfc761eb",
   "metadata": {},
   "outputs": [
    {
     "data": {
      "text/plain": [
       "{'whiskers': [<matplotlib.lines.Line2D at 0x21e0cb93508>,\n",
       "  <matplotlib.lines.Line2D at 0x21e0cb93c08>],\n",
       " 'caps': [<matplotlib.lines.Line2D at 0x21e0cb93e48>,\n",
       "  <matplotlib.lines.Line2D at 0x21e0cb93c88>],\n",
       " 'boxes': [<matplotlib.lines.Line2D at 0x21e0cb8ecc8>],\n",
       " 'medians': [<matplotlib.lines.Line2D at 0x21e0cb9ab48>],\n",
       " 'fliers': [<matplotlib.lines.Line2D at 0x21e0cb93f48>],\n",
       " 'means': [<matplotlib.lines.Line2D at 0x21e0cb9aa08>]}"
      ]
     },
     "execution_count": 9,
     "metadata": {},
     "output_type": "execute_result"
    },
    {
     "data": {
      "image/png": "[encoded data removed]",
      "text/plain": [
       "<Figure size 640x480 with 1 Axes>"
      ]
     },
     "metadata": {},
     "output_type": "display_data"
    }
   ],
   "source": [
    "# 수평 박스플롯\n",
    "plt.boxplot(scores, showmeans=True, meanline=True, vert=False)"
   ]
  },
  {
   "cell_type": "code",
   "execution_count": 10,
   "id": "13b51140",
   "metadata": {},
   "outputs": [
    {
     "data": {
      "text/html": [
       "<div>\n",
       "<style scoped>\n",
       "    .dataframe tbody tr th:only-of-type {\n",
       "        vertical-align: middle;\n",
       "    }\n",
       "\n",
       "    .dataframe tbody tr th {\n",
       "        vertical-align: top;\n",
       "    }\n",
       "\n",
       "    .dataframe thead th {\n",
       "        text-align: right;\n",
       "    }\n",
       "</style>\n",
       "<table border=\"1\" class=\"dataframe\">\n",
       "  <thead>\n",
       "    <tr style=\"text-align: right;\">\n",
       "      <th></th>\n",
       "      <th>sepal_length</th>\n",
       "      <th>sepal_width</th>\n",
       "      <th>petal_length</th>\n",
       "      <th>petal_width</th>\n",
       "      <th>species</th>\n",
       "    </tr>\n",
       "  </thead>\n",
       "  <tbody>\n",
       "    <tr>\n",
       "      <th>0</th>\n",
       "      <td>5.1</td>\n",
       "      <td>3.5</td>\n",
       "      <td>1.4</td>\n",
       "      <td>0.2</td>\n",
       "      <td>setosa</td>\n",
       "    </tr>\n",
       "    <tr>\n",
       "      <th>1</th>\n",
       "      <td>4.9</td>\n",
       "      <td>3.0</td>\n",
       "      <td>1.4</td>\n",
       "      <td>0.2</td>\n",
       "      <td>setosa</td>\n",
       "    </tr>\n",
       "    <tr>\n",
       "      <th>2</th>\n",
       "      <td>4.7</td>\n",
       "      <td>3.2</td>\n",
       "      <td>1.3</td>\n",
       "      <td>0.2</td>\n",
       "      <td>setosa</td>\n",
       "    </tr>\n",
       "    <tr>\n",
       "      <th>3</th>\n",
       "      <td>4.6</td>\n",
       "      <td>3.1</td>\n",
       "      <td>1.5</td>\n",
       "      <td>0.2</td>\n",
       "      <td>setosa</td>\n",
       "    </tr>\n",
       "    <tr>\n",
       "      <th>4</th>\n",
       "      <td>5.0</td>\n",
       "      <td>3.6</td>\n",
       "      <td>1.4</td>\n",
       "      <td>0.2</td>\n",
       "      <td>setosa</td>\n",
       "    </tr>\n",
       "  </tbody>\n",
       "</table>\n",
       "</div>"
      ],
      "text/plain": [
       "   sepal_length  sepal_width  petal_length  petal_width species\n",
       "0           5.1          3.5           1.4          0.2  setosa\n",
       "1           4.9          3.0           1.4          0.2  setosa\n",
       "2           4.7          3.2           1.3          0.2  setosa\n",
       "3           4.6          3.1           1.5          0.2  setosa\n",
       "4           5.0          3.6           1.4          0.2  setosa"
      ]
     },
     "execution_count": 10,
     "metadata": {},
     "output_type": "execute_result"
    }
   ],
   "source": [
    "# 여러개의 데이터 비교하기\n",
    "# 샘플데이터 붓꽃데이터\n",
    "import seaborn as sns\n",
    "iris = sns.load_dataset('iris')\n",
    "iris.head()"
   ]
  },
  {
   "cell_type": "code",
   "execution_count": 11,
   "id": "54cb49ab",
   "metadata": {},
   "outputs": [
    {
     "data": {
      "image/png": "[encoded data removed]",
      "text/plain": [
       "<Figure size 640x480 with 1 Axes>"
      ]
     },
     "metadata": {},
     "output_type": "display_data"
    }
   ],
   "source": [
    "plt.boxplot([iris['sepal_length'], iris['sepal_width'], iris['petal_length'], iris['petal_width']],\n",
    "           labels=['sepal_length','sepal_width','petal_length','petl_width'],\n",
    "           showmeans=True)\n",
    "plt.grid(axis='y')\n",
    "plt.show()"
   ]
  },
  {
   "cell_type": "code",
   "execution_count": null,
   "id": "48b059c0",
   "metadata": {},
   "outputs": [],
   "source": []
  }
 ],
 "metadata": {
  "kernelspec": {
   "display_name": "Python 3 (ipykernel)",
   "language": "python",
   "name": "python3"
  },
  "language_info": {
   "codemirror_mode": {
    "name": "ipython",
    "version": 3
   },
   "file_extension": ".py",
   "mimetype": "text/x-python",
   "name": "python",
   "nbconvert_exporter": "python",
   "pygments_lexer": "ipython3",
   "version": "3.7.16"
  }
 },
 "nbformat": 4,
 "nbformat_minor": 5
}
